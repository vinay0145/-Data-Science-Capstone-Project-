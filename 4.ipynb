{
 "cells": [
  {
   "cell_type": "code",
   "execution_count": 54,
   "id": "b3b4dd2a-0191-40a5-8ef7-bc186cd699e4",
   "metadata": {},
   "outputs": [],
   "source": [
    "5. Prepare the Data for Machine Learning modelling"
   ]
  },
  {
   "cell_type": "code",
   "execution_count": 29,
   "id": "f175f167-f46e-4342-a84e-83fc54222e71",
   "metadata": {},
   "outputs": [],
   "source": [
    "import pandas as pd\n",
    "# pandas is aliased as pd\n",
    "import numpy as np\n",
    "# numpy is aliased as np\n",
    "import matplotlib.pyplot as pt\n",
    "# pyplot is aliased as plt\n",
    "from sklearn.preprocessing import StandardScaler"
   ]
  },
  {
   "cell_type": "code",
   "execution_count": 64,
   "id": "ea0723ad-3749-461f-a582-0423c4eb752c",
   "metadata": {},
   "outputs": [
    {
     "data": {
      "text/plain": [
       "name             0\n",
       "year             0\n",
       "selling_price    0\n",
       "km_driven        0\n",
       "fuel             0\n",
       "seller_type      0\n",
       "transmission     0\n",
       "owner            0\n",
       "dtype: int64"
      ]
     },
     "execution_count": 64,
     "metadata": {},
     "output_type": "execute_result"
    }
   ],
   "source": [
    "# Check for missing values\n",
    "car_data.isnull().sum()"
   ]
  },
  {
   "cell_type": "code",
   "execution_count": 65,
   "id": "d3bb948c-e962-4908-8c93-690ec5badc76",
   "metadata": {},
   "outputs": [],
   "source": [
    "# Option 1: Drop rows with missing values\n",
    "car_data.dropna(inplace=True)"
   ]
  },
  {
   "cell_type": "code",
   "execution_count": 39,
   "id": "b01593bd-bd55-479d-9cdf-8fb4dea7198d",
   "metadata": {},
   "outputs": [],
   "source": [
    "# Load the dataset\n",
    "import pandas as pd\n",
    "car_data = pd.read_csv('CAR DETAILS (2).csv') "
   ]
  },
  {
   "cell_type": "code",
   "execution_count": 38,
   "id": "b75e86c0-f0c1-4e4f-be3a-74657e949a27",
   "metadata": {},
   "outputs": [
    {
     "data": {
      "text/html": [
       "<div>\n",
       "<style scoped>\n",
       "    .dataframe tbody tr th:only-of-type {\n",
       "        vertical-align: middle;\n",
       "    }\n",
       "\n",
       "    .dataframe tbody tr th {\n",
       "        vertical-align: top;\n",
       "    }\n",
       "\n",
       "    .dataframe thead th {\n",
       "        text-align: right;\n",
       "    }\n",
       "</style>\n",
       "<table border=\"1\" class=\"dataframe\">\n",
       "  <thead>\n",
       "    <tr style=\"text-align: right;\">\n",
       "      <th></th>\n",
       "      <th>name</th>\n",
       "      <th>year</th>\n",
       "      <th>selling_price</th>\n",
       "      <th>km_driven</th>\n",
       "      <th>fuel</th>\n",
       "      <th>seller_type</th>\n",
       "      <th>transmission</th>\n",
       "      <th>owner</th>\n",
       "    </tr>\n",
       "  </thead>\n",
       "  <tbody>\n",
       "    <tr>\n",
       "      <th>0</th>\n",
       "      <td>Maruti 800 AC</td>\n",
       "      <td>2007</td>\n",
       "      <td>60000</td>\n",
       "      <td>70000</td>\n",
       "      <td>Petrol</td>\n",
       "      <td>Individual</td>\n",
       "      <td>Manual</td>\n",
       "      <td>First Owner</td>\n",
       "    </tr>\n",
       "    <tr>\n",
       "      <th>1</th>\n",
       "      <td>Maruti Wagon R LXI Minor</td>\n",
       "      <td>2007</td>\n",
       "      <td>135000</td>\n",
       "      <td>50000</td>\n",
       "      <td>Petrol</td>\n",
       "      <td>Individual</td>\n",
       "      <td>Manual</td>\n",
       "      <td>First Owner</td>\n",
       "    </tr>\n",
       "    <tr>\n",
       "      <th>2</th>\n",
       "      <td>Hyundai Verna 1.6 SX</td>\n",
       "      <td>2012</td>\n",
       "      <td>600000</td>\n",
       "      <td>100000</td>\n",
       "      <td>Diesel</td>\n",
       "      <td>Individual</td>\n",
       "      <td>Manual</td>\n",
       "      <td>First Owner</td>\n",
       "    </tr>\n",
       "    <tr>\n",
       "      <th>3</th>\n",
       "      <td>Datsun RediGO T Option</td>\n",
       "      <td>2017</td>\n",
       "      <td>250000</td>\n",
       "      <td>46000</td>\n",
       "      <td>Petrol</td>\n",
       "      <td>Individual</td>\n",
       "      <td>Manual</td>\n",
       "      <td>First Owner</td>\n",
       "    </tr>\n",
       "    <tr>\n",
       "      <th>4</th>\n",
       "      <td>Honda Amaze VX i-DTEC</td>\n",
       "      <td>2014</td>\n",
       "      <td>450000</td>\n",
       "      <td>141000</td>\n",
       "      <td>Diesel</td>\n",
       "      <td>Individual</td>\n",
       "      <td>Manual</td>\n",
       "      <td>Second Owner</td>\n",
       "    </tr>\n",
       "  </tbody>\n",
       "</table>\n",
       "</div>"
      ],
      "text/plain": [
       "                       name  year  selling_price  km_driven    fuel  \\\n",
       "0             Maruti 800 AC  2007          60000      70000  Petrol   \n",
       "1  Maruti Wagon R LXI Minor  2007         135000      50000  Petrol   \n",
       "2      Hyundai Verna 1.6 SX  2012         600000     100000  Diesel   \n",
       "3    Datsun RediGO T Option  2017         250000      46000  Petrol   \n",
       "4     Honda Amaze VX i-DTEC  2014         450000     141000  Diesel   \n",
       "\n",
       "  seller_type transmission         owner  \n",
       "0  Individual       Manual   First Owner  \n",
       "1  Individual       Manual   First Owner  \n",
       "2  Individual       Manual   First Owner  \n",
       "3  Individual       Manual   First Owner  \n",
       "4  Individual       Manual  Second Owner  "
      ]
     },
     "execution_count": 38,
     "metadata": {},
     "output_type": "execute_result"
    }
   ],
   "source": [
    "car_data.head()\n"
   ]
  },
  {
   "cell_type": "code",
   "execution_count": 40,
   "id": "45dbf572-340d-4ba1-9a7d-c4af92553761",
   "metadata": {},
   "outputs": [],
   "source": [
    "# Option 1: Drop rows with missing values\n",
    "car_data.dropna(inplace=True)"
   ]
  },
  {
   "cell_type": "code",
   "execution_count": 41,
   "id": "112c0160-034c-4b2e-84de-38fdc30b7524",
   "metadata": {},
   "outputs": [],
   "source": [
    "# Fill missing values only for numeric columns using the mean\n",
    "car_data.fillna(car_data.select_dtypes(include=['number']).mean(), inplace=True)"
   ]
  },
  {
   "cell_type": "code",
   "execution_count": 42,
   "id": "314098c5-c401-4333-bcf4-51f3503632d9",
   "metadata": {},
   "outputs": [],
   "source": [
    "# Step 1: Import required libraries\n",
    "import pandas as pd\n",
    "from sklearn.model_selection import train_test_split\n",
    "from sklearn.preprocessing import StandardScaler\n",
    "from sklearn.metrics import mean_squared_error"
   ]
  },
  {
   "cell_type": "code",
   "execution_count": 43,
   "id": "351742ed-775e-4212-aa90-6a00f40cd60b",
   "metadata": {},
   "outputs": [],
   "source": [
    "# Step 2: Load the dataset\n",
    "file_path = 'CAR DETAILS (2).csv' \n",
    "df = pd.read_csv('CAR DETAILS (2).CSV')"
   ]
  },
  {
   "cell_type": "code",
   "execution_count": 44,
   "id": "51967f96-de26-4947-96af-5c6a098f927a",
   "metadata": {},
   "outputs": [],
   "source": [
    "# Step 3: One-hot encoding for categorical variables\n",
    "df_encoded = pd.get_dummies(df, columns=['fuel', 'seller_type', 'transmission', 'owner'], drop_first=True)"
   ]
  },
  {
   "cell_type": "code",
   "execution_count": 45,
   "id": "b9919e91-7b98-4f04-8c9e-d87e3ca41471",
   "metadata": {},
   "outputs": [],
   "source": [
    "# Step 4: Define features (X) and target (y)\n",
    "X = df_encoded.drop(columns=['selling_price', 'name'])  # 'name' is dropped as it is not useful for ML modeling\n",
    "y = df_encoded['selling_price']"
   ]
  },
  {
   "cell_type": "code",
   "execution_count": 46,
   "id": "8ebd08b2-0dbb-4447-a966-2fc14504cd9d",
   "metadata": {},
   "outputs": [],
   "source": [
    "# Step 5: Split the dataset into training and testing sets (80% train, 20% test)\n",
    "X_train, X_test, y_train, y_test = train_test_split(X, y, test_size=0.2, random_state=42)"
   ]
  },
  {
   "cell_type": "code",
   "execution_count": 47,
   "id": "82c83bce-d940-4283-9d94-1f222481ded9",
   "metadata": {},
   "outputs": [],
   "source": [
    "# Step 6: Scale numerical features using StandardScaler\n",
    "scaler = StandardScaler()"
   ]
  },
  {
   "cell_type": "code",
   "execution_count": 48,
   "id": "4372239f-42d7-4b20-8407-6ddf07096ac4",
   "metadata": {},
   "outputs": [],
   "source": [
    "# Apply scaling to 'year' and 'km_driven' (keeping only numerical columns)\n",
    "X_train[['year', 'km_driven']] = scaler.fit_transform(X_train[['year', 'km_driven']])\n",
    "X_test[['year', 'km_driven']] = scaler.transform(X_test[['year', 'km_driven']])"
   ]
  },
  {
   "cell_type": "code",
   "execution_count": 49,
   "id": "49bf38cd-26e0-46c9-aca9-8aa4a06eff17",
   "metadata": {},
   "outputs": [
    {
     "data": {
      "text/plain": [
       "(          year  km_driven  fuel_Diesel  fuel_Electric  fuel_LPG  fuel_Petrol  \\\n",
       " 227   0.923421  -0.981140         True          False     False        False   \n",
       " 964   1.161228  -0.341463         True          False     False        False   \n",
       " 2045 -0.027808  -0.874527        False          False     False         True   \n",
       " 1025 -0.503423   0.084989         True          False     False        False   \n",
       " 4242  0.923421   0.127634         True          False     False        False   \n",
       " \n",
       "       seller_type_Individual  seller_type_Trustmark Dealer  \\\n",
       " 227                     True                         False   \n",
       " 964                     True                         False   \n",
       " 2045                    True                         False   \n",
       " 1025                    True                         False   \n",
       " 4242                   False                         False   \n",
       " \n",
       "       transmission_Manual  owner_Fourth & Above Owner  owner_Second Owner  \\\n",
       " 227                  True                       False               False   \n",
       " 964                  True                       False               False   \n",
       " 2045                 True                       False                True   \n",
       " 1025                 True                       False               False   \n",
       " 4242                 True                       False               False   \n",
       " \n",
       "       owner_Test Drive Car  owner_Third Owner  \n",
       " 227                  False              False  \n",
       " 964                  False              False  \n",
       " 2045                 False              False  \n",
       " 1025                 False              False  \n",
       " 4242                 False              False  ,\n",
       "           year  km_driven  fuel_Diesel  fuel_Electric  fuel_LPG  fuel_Petrol  \\\n",
       " 3978 -0.741230   0.298215         True          False     False        False   \n",
       " 1448  1.399035  -0.831882        False          False     False         True   \n",
       " 2664 -1.216844  -0.517950        False          False     False         True   \n",
       " 17    0.209999   1.598892         True          False     False        False   \n",
       " 1634  0.685614  -0.128237         True          False     False        False   \n",
       " \n",
       "       seller_type_Individual  seller_type_Trustmark Dealer  \\\n",
       " 3978                    True                         False   \n",
       " 1448                    True                         False   \n",
       " 2664                    True                         False   \n",
       " 17                      True                         False   \n",
       " 1634                    True                         False   \n",
       " \n",
       "       transmission_Manual  owner_Fourth & Above Owner  owner_Second Owner  \\\n",
       " 3978                 True                       False               False   \n",
       " 1448                 True                       False               False   \n",
       " 2664                 True                       False                True   \n",
       " 17                   True                       False                True   \n",
       " 1634                False                       False                True   \n",
       " \n",
       "       owner_Test Drive Car  owner_Third Owner  \n",
       " 3978                 False              False  \n",
       " 1448                 False              False  \n",
       " 2664                 False              False  \n",
       " 17                   False              False  \n",
       " 1634                 False              False  )"
      ]
     },
     "execution_count": 49,
     "metadata": {},
     "output_type": "execute_result"
    }
   ],
   "source": [
    "# Step 7: Verify the preprocessed data\n",
    "X_train.head(), X_test.head()"
   ]
  },
  {
   "cell_type": "code",
   "execution_count": 50,
   "id": "0b131420-9b07-48cd-9874-48e9b634e5ec",
   "metadata": {},
   "outputs": [],
   "source": [
    "# Assuming 'df_encoded' is your dataset with encoded features and 'selling_price' is the target variable\n",
    "X = df_encoded.drop(columns=['selling_price'])  # Features\n",
    "y = df_encoded['selling_price']  # Target"
   ]
  },
  {
   "cell_type": "code",
   "execution_count": 51,
   "id": "4a620385-e464-43e1-88e2-69e74e110597",
   "metadata": {},
   "outputs": [],
   "source": [
    "# Step 1: Split the dataset into training and testing sets (80% train, 20% test)\n",
    "X_train, X_test, y_train, y_test = train_test_split(X, y, test_size=0.2, random_state=42)"
   ]
  },
  {
   "cell_type": "code",
   "execution_count": 52,
   "id": "8afeb950-7106-41fe-be85-abe8e34923df",
   "metadata": {},
   "outputs": [],
   "source": [
    "# Step 2: Scale numerical features using StandardScaler\n",
    "scaler = StandardScaler()\n",
    "X_train[['year', 'km_driven']] = scaler.fit_transform(X_train[['year', 'km_driven']])\n",
    "X_test[['year', 'km_driven']] = scaler.transform(X_test[['year', 'km_driven']])"
   ]
  },
  {
   "cell_type": "code",
   "execution_count": 53,
   "id": "086d8091-11ac-41a6-936a-f40ee45b5b0e",
   "metadata": {},
   "outputs": [],
   "source": [
    "from sklearn.linear_model import LinearRegression, Ridge, Lasso\n",
    "from sklearn.ensemble import RandomForestRegressor, GradientBoostingRegressor, BaggingRegressor\n",
    "\n",
    "# Define the models\n",
    "models = {\n",
    "    \"Linear Regression\": LinearRegression(),\n",
    "    \"Ridge Regression\": Ridge(),\n",
    "    \"Lasso Regression\": Lasso(),\n",
    "    \"Random Forest\": RandomForestRegressor(n_estimators=100, random_state=42),\n",
    "    \"Gradient Boosting\": GradientBoostingRegressor(n_estimators=100, random_state=42),\n",
    "}"
   ]
  },
  {
   "cell_type": "code",
   "execution_count": 63,
   "id": "d4a31440-9895-4c1f-9592-94febf704298",
   "metadata": {},
   "outputs": [
    {
     "name": "stdout",
     "output_type": "stream",
     "text": [
      "Training model: Linear Regression\n",
      "Training model: Random Forest\n",
      "Training model: Gradient Boosting\n",
      "                      Train MSE      Test MSE  Train R^2  Test R^2\n",
      "Linear Regression  1.843466e+11  1.849635e+11   0.460885  0.393901\n",
      "Random Forest      2.592294e+10  1.547570e+11   0.924189  0.492883\n",
      "Gradient Boosting  8.395802e+10  1.577834e+11   0.754468  0.482966\n"
     ]
    }
   ],
   "source": [
    "\n",
    "# Step 1: Drop the 'name' column if it's not needed for training\n",
    "X_train = X_train.drop(columns=['name'])\n",
    "X_test = X_test.drop(columns=['name'])\n",
    "\n",
    "# Step 2: One-hot encode categorical features before training\n",
    "X_train = pd.get_dummies(X_train, drop_first=True)\n",
    "X_test = pd.get_dummies(X_test, drop_first=True)\n",
    "\n",
    "# Step 3: Ensure that train and test have the same columns\n",
    "X_test = X_test.reindex(columns=X_train.columns, fill_value=0)\n",
    "\n",
    "# Initialize an empty dictionary for storing results\n",
    "results = {}\n",
    "\n",
    "# Step 4: Train and evaluate the models\n",
    "for model_name, model in models.items():\n",
    "    print(f\"Training model: {model_name}\")\n",
    "    \n",
    "    # Train the model\n",
    "    model.fit(X_train, y_train)\n",
    "\n",
    "    # Make predictions\n",
    "    y_pred_train = model.predict(X_train)\n",
    "    y_pred_test = model.predict(X_test)\n",
    "\n",
    "    # Evaluate the model\n",
    "    mse_train = mean_squared_error(y_train, y_pred_train)\n",
    "    mse_test = mean_squared_error(y_test, y_pred_test)\n",
    "    r2_train = r2_score(y_train, y_pred_train)\n",
    "    r2_test = r2_score(y_test, y_pred_test)\n",
    "\n",
    "    # Store the results\n",
    "    results[model_name] = {\n",
    "        \"Train MSE\": mse_train,\n",
    "        \"Test MSE\": mse_test,\n",
    "        \"Train R^2\": r2_train,\n",
    "        \"Test R^2\": r2_test\n",
    "    }\n",
    "\n",
    "# Results comparison\n",
    "results_df = pd.DataFrame(results).T\n",
    "print(results_df)\n"
   ]
  },
  {
   "cell_type": "code",
   "execution_count": null,
   "id": "f4c4c345-6911-423a-9a18-78fb0a62aac1",
   "metadata": {},
   "outputs": [],
   "source": [
    "from sklearn.metrics import mean_squared_error, r2_score\n",
    "\n",
    "# Calculate MSE\n",
    "mse_train = mean_squared_error(y_train, y_pred_train)\n",
    "mse_test = mean_squared_error(y_test, y_pred_test)\n",
    "\n",
    "# Calculate R²\n",
    "r2_train = r2_score(y_train, y_pred_train)\n",
    "r2_test = r2_score(y_test, y_pred_test)\n",
    "\n",
    "# Save results\n",
    "results[model_name] = {\n",
    "    \"Train MSE\": mse_train,\n",
    "    \"Test MSE\": mse_test,\n",
    "    \"Train R^2\": r2_train,\n",
    "    \"Test R^2\": r2_test\n",
    "}\n",
    "\n"
   ]
  },
  {
   "cell_type": "code",
   "execution_count": null,
   "id": "2fb5bb80-f552-43d6-a244-122b340ef333",
   "metadata": {},
   "outputs": [],
   "source": [
    "# Step 5: Compare the results\n",
    "results_df = pd.DataFrame(results).T\n",
    "print(results_df)"
   ]
  },
  {
   "cell_type": "code",
   "execution_count": null,
   "id": "48ba6cb2-8000-4911-9675-fd091a6851ad",
   "metadata": {},
   "outputs": [],
   "source": [
    "# Step 6: Find the best model based on Test R^2 score\n",
    "best_model = results_df['Test R^2'].idxmax()\n",
    "print(f\"Best model: {best_model}\")\n",
    "print(results_df.columns)"
   ]
  },
  {
   "cell_type": "code",
   "execution_count": null,
   "id": "4239d584-136b-44aa-b345-3afe4d1b9381",
   "metadata": {},
   "outputs": [],
   "source": [
    "6. Apply coding on various Machine Learning techniques such as Regression or \n",
    "classification ,Bagging, Ensemble techniques and find out the\n",
    "best model using various Machine Learning model evaluation  for jupyter notebook"
   ]
  },
  {
   "cell_type": "code",
   "execution_count": null,
   "id": "a29f20f0-ccb4-42da-960c-923d97cfb9c6",
   "metadata": {},
   "outputs": [],
   "source": [
    "1. Load and Clean the Data"
   ]
  },
  {
   "cell_type": "code",
   "execution_count": 56,
   "id": "874c630a-4d3e-4543-8649-8033e9a34f27",
   "metadata": {},
   "outputs": [],
   "source": [
    "import pandas as pd\n",
    "import numpy as np\n",
    "from sklearn.model_selection import train_test_split\n",
    "from sklearn.preprocessing import LabelEncoder, StandardScaler\n",
    "\n",
    "# Load the dataset\n",
    "df = pd.read_csv('CAR DETAILS (2).csv')\n",
    "\n",
    "# View the first few rows\n",
    "df.head()\n",
    "\n",
    "# Check for null values\n",
    "df.isnull().sum()\n",
    "\n",
    "# Drop or fill missing values\n",
    "df.dropna(inplace=True)\n",
    "\n",
    "# Encode categorical variables\n",
    "label_encoder = LabelEncoder()\n",
    "df['name'] = label_encoder.fit_transform(df['name'])\n",
    "df['fuel'] = label_encoder.fit_transform(df['fuel'])\n",
    "df['seller_type'] = label_encoder.fit_transform(df['seller_type'])\n",
    "df['transmission'] = label_encoder.fit_transform(df['transmission'])\n",
    "df['owner'] = label_encoder.fit_transform(df['owner'])\n",
    "\n",
    "# Feature scaling\n",
    "scaler = StandardScaler()\n",
    "df[['km_driven']] = scaler.fit_transform(df[['km_driven']])\n",
    "\n",
    "# Separate features and target\n",
    "X = df.drop(columns=['selling_price'])\n",
    "y = df['selling_price']"
   ]
  },
  {
   "cell_type": "code",
   "execution_count": 57,
   "id": "d39b496b-6bb0-4851-8bff-79e4ceefae51",
   "metadata": {},
   "outputs": [],
   "source": [
    "import pandas as pd\n",
    "import numpy as np\n",
    "from sklearn.model_selection import train_test_split\n",
    "from sklearn.preprocessing import LabelEncoder, StandardScaler\n",
    "\n",
    "# Load the dataset\n",
    "df = pd.read_csv('CAR DETAILS (2).csv')\n",
    "\n",
    "# View the first few rows\n",
    "df.head()\n",
    "\n",
    "# Check for null values\n",
    "df.isnull().sum()\n",
    "\n",
    "# Drop or fill missing values\n",
    "df.dropna(inplace=True)\n",
    "\n",
    "# Encode categorical variables\n",
    "label_encoder = LabelEncoder()\n",
    "df['name'] = label_encoder.fit_transform(df['name'])\n",
    "df['fuel'] = label_encoder.fit_transform(df['fuel'])\n",
    "df['seller_type'] = label_encoder.fit_transform(df['seller_type'])\n",
    "df['transmission'] = label_encoder.fit_transform(df['transmission'])\n",
    "df['owner'] = label_encoder.fit_transform(df['owner'])\n",
    "\n",
    "# Feature scaling\n",
    "scaler = StandardScaler()\n",
    "df[['km_driven']] = scaler.fit_transform(df[['km_driven']])\n",
    "\n",
    "# Separate features and target\n",
    "X = df.drop(columns=['selling_price'])\n",
    "y = df['selling_price']"
   ]
  },
  {
   "cell_type": "code",
   "execution_count": 58,
   "id": "9d012d9b-6202-4f6f-b394-b8ed36493540",
   "metadata": {},
   "outputs": [],
   "source": [
    "# Split the data into training and testing sets\n",
    "X_train, X_test, y_train, y_test = train_test_split(X, y, test_size=0.2, random_state=42)\n"
   ]
  },
  {
   "cell_type": "code",
   "execution_count": 59,
   "id": "46a6d8de-7b06-494a-be21-ff54ae446299",
   "metadata": {},
   "outputs": [
    {
     "name": "stdout",
     "output_type": "stream",
     "text": [
      "Training model: Linear Regression\n",
      "Training model: Random Forest\n",
      "Training model: Gradient Boosting\n"
     ]
    },
    {
     "data": {
      "text/html": [
       "<div>\n",
       "<style scoped>\n",
       "    .dataframe tbody tr th:only-of-type {\n",
       "        vertical-align: middle;\n",
       "    }\n",
       "\n",
       "    .dataframe tbody tr th {\n",
       "        vertical-align: top;\n",
       "    }\n",
       "\n",
       "    .dataframe thead th {\n",
       "        text-align: right;\n",
       "    }\n",
       "</style>\n",
       "<table border=\"1\" class=\"dataframe\">\n",
       "  <thead>\n",
       "    <tr style=\"text-align: right;\">\n",
       "      <th></th>\n",
       "      <th>MSE Train</th>\n",
       "      <th>MSE Test</th>\n",
       "      <th>R2 Train</th>\n",
       "      <th>R2 Test</th>\n",
       "    </tr>\n",
       "  </thead>\n",
       "  <tbody>\n",
       "    <tr>\n",
       "      <th>Linear Regression</th>\n",
       "      <td>1.841526e+11</td>\n",
       "      <td>1.843321e+11</td>\n",
       "      <td>0.461453</td>\n",
       "      <td>0.395970</td>\n",
       "    </tr>\n",
       "    <tr>\n",
       "      <th>Random Forest</th>\n",
       "      <td>1.086677e+10</td>\n",
       "      <td>9.593721e+10</td>\n",
       "      <td>0.968221</td>\n",
       "      <td>0.685627</td>\n",
       "    </tr>\n",
       "    <tr>\n",
       "      <th>Gradient Boosting</th>\n",
       "      <td>4.749862e+10</td>\n",
       "      <td>1.079455e+11</td>\n",
       "      <td>0.861092</td>\n",
       "      <td>0.646278</td>\n",
       "    </tr>\n",
       "  </tbody>\n",
       "</table>\n",
       "</div>"
      ],
      "text/plain": [
       "                      MSE Train      MSE Test  R2 Train   R2 Test\n",
       "Linear Regression  1.841526e+11  1.843321e+11  0.461453  0.395970\n",
       "Random Forest      1.086677e+10  9.593721e+10  0.968221  0.685627\n",
       "Gradient Boosting  4.749862e+10  1.079455e+11  0.861092  0.646278"
      ]
     },
     "execution_count": 59,
     "metadata": {},
     "output_type": "execute_result"
    }
   ],
   "source": [
    "from sklearn.linear_model import LinearRegression\n",
    "from sklearn.ensemble import RandomForestRegressor\n",
    "from sklearn.ensemble import GradientBoostingRegressor\n",
    "from sklearn.metrics import mean_squared_error, r2_score\n",
    "\n",
    "# Initialize models\n",
    "models = {\n",
    "    'Linear Regression': LinearRegression(),\n",
    "    'Random Forest': RandomForestRegressor(),\n",
    "    'Gradient Boosting': GradientBoostingRegressor()\n",
    "}\n",
    "\n",
    "# Dictionary to store model results\n",
    "results = {}\n",
    "\n",
    "# Train and evaluate models\n",
    "for model_name, model in models.items():\n",
    "    print(f\"Training model: {model_name}\")\n",
    "    model.fit(X_train, y_train)\n",
    "    \n",
    "    # Predictions\n",
    "    y_pred_train = model.predict(X_train)\n",
    "    y_pred_test = model.predict(X_test)\n",
    "    \n",
    "    # Evaluate the model\n",
    "    mse_train = mean_squared_error(y_train, y_pred_train)\n",
    "    mse_test = mean_squared_error(y_test, y_pred_test)\n",
    "    r2_train = r2_score(y_train, y_pred_train)\n",
    "    r2_test = r2_score(y_test, y_pred_test)\n",
    "    \n",
    "    # Save results\n",
    "    results[model_name] = {'MSE Train': mse_train, 'MSE Test': mse_test, 'R2 Train': r2_train, 'R2 Test': r2_test}\n",
    "\n",
    "# View the results\n",
    "pd.DataFrame(results).T\n"
   ]
  },
  {
   "cell_type": "code",
   "execution_count": 60,
   "id": "c2360639-c18d-4b6b-a01f-6f7c0f496357",
   "metadata": {},
   "outputs": [
    {
     "name": "stdout",
     "output_type": "stream",
     "text": [
      "Bagging MSE: 99004528733.27812, R2 Score: 0.6755761184893123\n"
     ]
    }
   ],
   "source": [
    "from sklearn.ensemble import BaggingRegressor\n",
    "\n",
    "from sklearn.ensemble import BaggingRegressor, RandomForestRegressor\n",
    "\n",
    "# Bagging with Random Forest\n",
    "bagging_model = BaggingRegressor(estimator=RandomForestRegressor(), n_estimators=10, random_state=42)\n",
    "bagging_model.fit(X_train, y_train)\n",
    "\n",
    "# Predictions and evaluation\n",
    "\n",
    "\n",
    "# Predictions and evaluation\n",
    "y_pred_bagging = bagging_model.predict(X_test)\n",
    "mse_bagging = mean_squared_error(y_test, y_pred_bagging)\n",
    "r2_bagging = r2_score(y_test, y_pred_bagging)\n",
    "\n",
    "print(f\"Bagging MSE: {mse_bagging}, R2 Score: {r2_bagging}\")"
   ]
  },
  {
   "cell_type": "code",
   "execution_count": 61,
   "id": "9e5edded-7bda-4b41-9e7b-00420d9ea4c9",
   "metadata": {},
   "outputs": [
    {
     "name": "stdout",
     "output_type": "stream",
     "text": [
      "Gradient Boosting MSE: 107950372397.86275, R2 Score: 0.6462618501201238\n"
     ]
    }
   ],
   "source": [
    "from sklearn.ensemble import GradientBoostingRegressor\n",
    "\n",
    "# Gradient Boosting\n",
    "gbr_model = GradientBoostingRegressor(n_estimators=100, random_state=42)\n",
    "gbr_model.fit(X_train, y_train)\n",
    "\n",
    "# Predictions and evaluation\n",
    "y_pred_gbr = gbr_model.predict(X_test)\n",
    "mse_gbr = mean_squared_error(y_test, y_pred_gbr)\n",
    "r2_gbr = r2_score(y_test, y_pred_gbr)\n",
    "\n",
    "print(f\"Gradient Boosting MSE: {mse_gbr}, R2 Score: {r2_gbr}\")\n"
   ]
  },
  {
   "cell_type": "code",
   "execution_count": null,
   "id": "d05d7a6c-c85f-4034-b088-208845a40889",
   "metadata": {},
   "outputs": [],
   "source": [
    "7. Save the best model and Load the model"
   ]
  },
  {
   "cell_type": "code",
   "execution_count": null,
   "id": "a4574a04-ed91-4d49-afaf-76660066a920",
   "metadata": {},
   "outputs": [],
   "source": [
    "# Check the columns of the dataset\n",
    "print(data.columns)\n"
   ]
  },
  {
   "cell_type": "code",
   "execution_count": null,
   "id": "3b0cab9f-43e2-4a4e-9b23-eb8286807dd2",
   "metadata": {},
   "outputs": [],
   "source": [
    "For Scikit-learn:\n",
    "Saving the Model:"
   ]
  },
  {
   "cell_type": "code",
   "execution_count": null,
   "id": "85260edf-1b2f-4769-af3b-040b1c2e0ddb",
   "metadata": {},
   "outputs": [],
   "source": [
    "import pandas as pd\n",
    "from sklearn.model_selection import train_test_split\n",
    "from sklearn.ensemble import RandomForestRegressor  # Example model\n",
    "import joblib\n",
    "\n",
    "# Load the dataset\n",
    "data = pd.read_csv('CAR DETAILS (2).csv')\n",
    "\n",
    "# Separate features and target (assuming 'price' is the target variable)\n",
    "X = data.drop(columns=['Index(['name', 'year', 'selling_price', 'km_driven', 'fuel', 'seller_type',\n",
    "       'transmission', 'owner'],\n",
    "      dtype='object')']\n",
    "y = data['1'] \n",
    "\n",
    "# Split the data into training and testing sets\n",
    "X_train, X_test, y_train, y_test = train_test_split(X, y, test_size=0.2, random_state=42)\n",
    "\n",
    "# Train a model (Random Forest as an example)\n",
    "model = RandomForestRegressor()\n",
    "model.fit(X_train, y_train)\n",
    "\n",
    "# Save the trained model\n",
    "joblib.dump(model, 'best_model.pkl')\n",
    "\n",
    "# Optionally, load the saved model to confirm it works\n",
    "loaded_model = joblib.load('best_model.pkl')\n"
   ]
  },
  {
   "cell_type": "code",
   "execution_count": null,
   "id": "414ada0b-1d84-4a41-986f-488a29e72e96",
   "metadata": {},
   "outputs": [],
   "source": [
    "import joblib\n",
    "\n",
    "# Assuming 'model' is your trained model\n",
    "joblib.dump(model, 'best_model.pkl')\n"
   ]
  },
  {
   "cell_type": "code",
   "execution_count": null,
   "id": "0bc013e9-d459-4ff9-ba65-c217c20c00e1",
   "metadata": {},
   "outputs": [],
   "source": [
    "Loading the Model:"
   ]
  },
  {
   "cell_type": "code",
   "execution_count": null,
   "id": "29ef0b15-6265-498b-a66a-61cf2a2ee998",
   "metadata": {},
   "outputs": [],
   "source": [
    "# Load the saved model\n",
    "model = joblib.load('best_model.pkl')\n"
   ]
  },
  {
   "cell_type": "code",
   "execution_count": null,
   "id": "d4ad8740-9086-41b6-b5ae-19dfdaa0a549",
   "metadata": {},
   "outputs": [],
   "source": [
    "For TensorFlow/Keras:\n",
    "Saving the Model:"
   ]
  },
  {
   "cell_type": "code",
   "execution_count": null,
   "id": "54917fea-2417-4f6d-b50b-6c9f62cf6165",
   "metadata": {},
   "outputs": [],
   "source": [
    "# Assuming 'model' is your trained model\n",
    "model.save('best_model.h5')\n"
   ]
  },
  {
   "cell_type": "code",
   "execution_count": null,
   "id": "d46ad0f0-7d1c-4cba-bd59-06a1c4ee6173",
   "metadata": {},
   "outputs": [],
   "source": [
    "Loading the Model:"
   ]
  },
  {
   "cell_type": "code",
   "execution_count": null,
   "id": "66383be1-dceb-49e3-85ef-4842f7ef342d",
   "metadata": {},
   "outputs": [],
   "source": [
    "from tensorflow.keras.models import load_model\n",
    "\n",
    "# Load the saved model\n",
    "model = load_model('best_model.h5')\n"
   ]
  },
  {
   "cell_type": "code",
   "execution_count": null,
   "id": "6855cc1d-9b20-477b-90f2-7b7d720928b1",
   "metadata": {},
   "outputs": [],
   "source": [
    "8. Randomly pick 20 data points from the dataset and test the model"
   ]
  },
  {
   "cell_type": "code",
   "execution_count": null,
   "id": "cd514200-eece-401e-b0b1-13c56a8d8487",
   "metadata": {},
   "outputs": [],
   "source": [
    "# Check the columns of the dataset\n",
    "print(data.columns)\n"
   ]
  },
  {
   "cell_type": "code",
   "execution_count": null,
   "id": "d207dcf3-96ec-47c9-8c1c-62794764c852",
   "metadata": {},
   "outputs": [],
   "source": [
    "# Importing necessary libraries\n",
    "import pandas as pd\n",
    "from sklearn.model_selection import train_test_split\n",
    "from sklearn.ensemble import RandomForestRegressor\n",
    "from sklearn.preprocessing import OneHotEncoder\n",
    "from sklearn.compose import ColumnTransformer\n",
    "from sklearn.pipeline import Pipeline\n",
    "import joblib\n",
    "\n",
    "# Load the dataset\n",
    "data = pd.read_csv('CAR DETAILS (2).csv')\n",
    "\n",
    "# Separate features and target (assuming 'selling_price' is the target variable)\n",
    "X = data.drop(columns=['selling_price'])  # Features\n",
    "y = data['selling_price']  # Target (selling_price)\n",
    "\n",
    "# Preprocessing for categorical data\n",
    "categorical_features = ['name', 'fuel', 'seller_type', 'transmission', 'owner']\n",
    "numeric_features = ['year', 'km_driven']\n",
    "\n",
    "# Create a column transformer for preprocessing\n",
    "preprocessor = ColumnTransformer(\n",
    "    transformers=[\n",
    "        ('cat', OneHotEncoder(handle_unknown='ignore'), categorical_features)\n",
    "    ], remainder='passthrough')  # Remainder will pass through numeric columns 'year' and 'km_driven'\n",
    "\n",
    "# Create a pipeline that first applies the preprocessor, then fits the model\n",
    "model_pipeline = Pipeline(steps=[\n",
    "    ('preprocessor', preprocessor),\n",
    "    ('model', RandomForestRegressor(random_state=42))\n",
    "])\n",
    "\n",
    "# Split the data into training and testing sets (80% train, 20% test)\n",
    "X_train, X_test, y_train, y_test = train_test_split(X, y, test_size=0.2, random_state=42)\n",
    "\n",
    "# Train the model\n",
    "model_pipeline.fit(X_train, y_train)\n",
    "\n",
    "# Save the trained model\n",
    "joblib.dump(model_pipeline, 'best_model.pkl')\n",
    "\n",
    "# Load the saved model to test\n",
    "loaded_model = joblib.load('best_model.pkl')\n",
    "\n",
    "# Test the model on the test set\n",
    "predictions = loaded_model.predict(X_test)\n",
    "\n",
    "# Print out the first 5 predictions for comparison\n",
    "print(\"Sample predictions:\", predictions[:5])\n",
    "print(\"Actual prices:\", y_test[:5].values)\n"
   ]
  },
  {
   "cell_type": "code",
   "execution_count": null,
   "id": "07bfffea-a5de-4aa8-8c6c-1b44f58d2487",
   "metadata": {},
   "outputs": [],
   "source": []
  },
  {
   "cell_type": "code",
   "execution_count": null,
   "id": "937100ef-36fb-4274-aee7-a051bc983a87",
   "metadata": {},
   "outputs": [],
   "source": []
  },
  {
   "cell_type": "code",
   "execution_count": null,
   "id": "46fb704d-9b10-4d58-bcd5-cd800278a9d7",
   "metadata": {},
   "outputs": [],
   "source": []
  }
 ],
 "metadata": {
  "kernelspec": {
   "display_name": "Python 3 (ipykernel)",
   "language": "python",
   "name": "python3"
  },
  "language_info": {
   "codemirror_mode": {
    "name": "ipython",
    "version": 3
   },
   "file_extension": ".py",
   "mimetype": "text/x-python",
   "name": "python",
   "nbconvert_exporter": "python",
   "pygments_lexer": "ipython3",
   "version": "3.12.4"
  }
 },
 "nbformat": 4,
 "nbformat_minor": 5
}
